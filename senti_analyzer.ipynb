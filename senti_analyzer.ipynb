{
 "cells": [
  {
   "cell_type": "code",
   "execution_count": 1,
   "metadata": {},
   "outputs": [],
   "source": [
    "from IPython.display import display\n",
    "from IPython.display import clear_output\n",
    "\n",
    "import math\n",
    "from pprint import pprint\n",
    "import pandas as pd\n",
    "import numpy as np\n",
    "import nltk\n",
    "import matplotlib.pyplot as plt\n",
    "import seaborn as sns\n",
    "sns.set(style='darkgrid', context='talk', palette='Dark2')\n",
    "\n"
   ]
  },
  {
   "cell_type": "code",
   "execution_count": 2,
   "metadata": {},
   "outputs": [
    {
     "name": "stdout",
     "output_type": "stream",
     "text": [
      "Requirement already satisfied: praw in c:\\programdata\\anaconda3\\lib\\site-packages (6.3.1)\n",
      "Requirement already satisfied: update-checker>=0.16 in c:\\programdata\\anaconda3\\lib\\site-packages (from praw) (0.16)\n",
      "Requirement already satisfied: websocket-client>=0.54.0 in c:\\programdata\\anaconda3\\lib\\site-packages (from praw) (0.56.0)\n",
      "Requirement already satisfied: prawcore<2.0,>=1.0.1 in c:\\programdata\\anaconda3\\lib\\site-packages (from praw) (1.0.1)\n",
      "Requirement already satisfied: requests>=2.3.0 in c:\\programdata\\anaconda3\\lib\\site-packages (from update-checker>=0.16->praw) (2.21.0)\n",
      "Requirement already satisfied: six in c:\\programdata\\anaconda3\\lib\\site-packages (from websocket-client>=0.54.0->praw) (1.12.0)\n",
      "Requirement already satisfied: chardet<3.1.0,>=3.0.2 in c:\\programdata\\anaconda3\\lib\\site-packages (from requests>=2.3.0->update-checker>=0.16->praw) (3.0.4)\n",
      "Requirement already satisfied: certifi>=2017.4.17 in c:\\programdata\\anaconda3\\lib\\site-packages (from requests>=2.3.0->update-checker>=0.16->praw) (2019.3.9)\n",
      "Requirement already satisfied: urllib3<1.25,>=1.21.1 in c:\\programdata\\anaconda3\\lib\\site-packages (from requests>=2.3.0->update-checker>=0.16->praw) (1.24.1)\n",
      "Requirement already satisfied: idna<2.9,>=2.5 in c:\\programdata\\anaconda3\\lib\\site-packages (from requests>=2.3.0->update-checker>=0.16->praw) (2.8)\n"
     ]
    }
   ],
   "source": [
    "!pip install praw\n",
    "import praw\n",
    "reddit= praw.Reddit(client_id='wm0tUOahG4xwtQ', client_secret='YEww466YN6EGAuixnQXPd0yHbzk', user_agent='mythili_rajendra')\n",
    "\n"
   ]
  },
  {
   "cell_type": "code",
   "execution_count": 3,
   "metadata": {},
   "outputs": [],
   "source": [
    "headlines= set()"
   ]
  },
  {
   "cell_type": "code",
   "execution_count": 4,
   "metadata": {},
   "outputs": [
    {
     "name": "stdout",
     "output_type": "stream",
     "text": [
      "970\n"
     ]
    }
   ],
   "source": [
    "for submission in reddit.subreddit('politics').new(limit=None):\n",
    "    headlines.add(submission.title)\n",
    "    \n",
    "print(len(headlines))\n",
    "   \n"
   ]
  },
  {
   "cell_type": "code",
   "execution_count": 5,
   "metadata": {},
   "outputs": [],
   "source": [
    "from nltk.sentiment.vader import SentimentIntensityAnalyzer as SIA\n",
    "sia= SIA()\n",
    "results=[]\n",
    "for line in headlines:\n",
    "    pol_score=sia.polarity_scores(line)\n",
    "    pol_score['headline']= line\n",
    "    results.append(pol_score)\n"
   ]
  },
  {
   "cell_type": "code",
   "execution_count": 7,
   "metadata": {},
   "outputs": [
    {
     "name": "stdout",
     "output_type": "stream",
     "text": [
      "[{'compound': 0.0,\n",
      "  'headline': 'Trump campaign flying anti-socialism banner above Democratic debate',\n",
      "  'neg': 0.0,\n",
      "  'neu': 1.0,\n",
      "  'pos': 0.0},\n",
      " {'compound': 0.0,\n",
      "  'headline': 'US concluded Israel likely planted surveillance devices near White House: report',\n",
      "  'neg': 0.0,\n",
      "  'neu': 1.0,\n",
      "  'pos': 0.0},\n",
      " {'compound': -0.296,\n",
      "  'headline': \"This Liberal Group's Website Was Deemed Porn by the Trump Administration - No one \"\n",
      "              'thinks the citizen advocacy group Public Citizen is racey. And yet, for months, its '\n",
      "              'website was being deemed adult content by the Department of Education’s web filter.',\n",
      "  'neg': 0.053,\n",
      "  'neu': 0.947,\n",
      "  'pos': 0.0},\n",
      " {'compound': 0.0,\n",
      "  'headline': 'Report: Sen. Mike Lee Discussed Loosening Sanctions Against Russia During Moscow '\n",
      "              'Visit',\n",
      "  'neg': 0.0,\n",
      "  'neu': 1.0,\n",
      "  'pos': 0.0}]\n"
     ]
    }
   ],
   "source": [
    "pprint(results[:4], width=100)"
   ]
  },
  {
   "cell_type": "code",
   "execution_count": 8,
   "metadata": {},
   "outputs": [
    {
     "data": {
      "text/html": [
       "<div>\n",
       "<style scoped>\n",
       "    .dataframe tbody tr th:only-of-type {\n",
       "        vertical-align: middle;\n",
       "    }\n",
       "\n",
       "    .dataframe tbody tr th {\n",
       "        vertical-align: top;\n",
       "    }\n",
       "\n",
       "    .dataframe thead th {\n",
       "        text-align: right;\n",
       "    }\n",
       "</style>\n",
       "<table border=\"1\" class=\"dataframe\">\n",
       "  <thead>\n",
       "    <tr style=\"text-align: right;\">\n",
       "      <th></th>\n",
       "      <th>compound</th>\n",
       "      <th>headline</th>\n",
       "      <th>neg</th>\n",
       "      <th>neu</th>\n",
       "      <th>pos</th>\n",
       "    </tr>\n",
       "  </thead>\n",
       "  <tbody>\n",
       "    <tr>\n",
       "      <th>0</th>\n",
       "      <td>0.0000</td>\n",
       "      <td>Trump campaign flying anti-socialism banner ab...</td>\n",
       "      <td>0.000</td>\n",
       "      <td>1.000</td>\n",
       "      <td>0.0</td>\n",
       "    </tr>\n",
       "    <tr>\n",
       "      <th>1</th>\n",
       "      <td>0.0000</td>\n",
       "      <td>US concluded Israel likely planted surveillanc...</td>\n",
       "      <td>0.000</td>\n",
       "      <td>1.000</td>\n",
       "      <td>0.0</td>\n",
       "    </tr>\n",
       "    <tr>\n",
       "      <th>2</th>\n",
       "      <td>-0.2960</td>\n",
       "      <td>This Liberal Group's Website Was Deemed Porn b...</td>\n",
       "      <td>0.053</td>\n",
       "      <td>0.947</td>\n",
       "      <td>0.0</td>\n",
       "    </tr>\n",
       "    <tr>\n",
       "      <th>3</th>\n",
       "      <td>0.0000</td>\n",
       "      <td>Report: Sen. Mike Lee Discussed Loosening Sanc...</td>\n",
       "      <td>0.000</td>\n",
       "      <td>1.000</td>\n",
       "      <td>0.0</td>\n",
       "    </tr>\n",
       "    <tr>\n",
       "      <th>4</th>\n",
       "      <td>-0.6249</td>\n",
       "      <td>Another Flint? Newark, NJ, Faces Public Health...</td>\n",
       "      <td>0.227</td>\n",
       "      <td>0.773</td>\n",
       "      <td>0.0</td>\n",
       "    </tr>\n",
       "    <tr>\n",
       "      <th>5</th>\n",
       "      <td>-0.2263</td>\n",
       "      <td>Watch live: Greta Thunberg joins protesters ou...</td>\n",
       "      <td>0.160</td>\n",
       "      <td>0.840</td>\n",
       "      <td>0.0</td>\n",
       "    </tr>\n",
       "  </tbody>\n",
       "</table>\n",
       "</div>"
      ],
      "text/plain": [
       "   compound                                           headline    neg    neu  \\\n",
       "0    0.0000  Trump campaign flying anti-socialism banner ab...  0.000  1.000   \n",
       "1    0.0000  US concluded Israel likely planted surveillanc...  0.000  1.000   \n",
       "2   -0.2960  This Liberal Group's Website Was Deemed Porn b...  0.053  0.947   \n",
       "3    0.0000  Report: Sen. Mike Lee Discussed Loosening Sanc...  0.000  1.000   \n",
       "4   -0.6249  Another Flint? Newark, NJ, Faces Public Health...  0.227  0.773   \n",
       "5   -0.2263  Watch live: Greta Thunberg joins protesters ou...  0.160  0.840   \n",
       "\n",
       "   pos  \n",
       "0  0.0  \n",
       "1  0.0  \n",
       "2  0.0  \n",
       "3  0.0  \n",
       "4  0.0  \n",
       "5  0.0  "
      ]
     },
     "execution_count": 8,
     "metadata": {},
     "output_type": "execute_result"
    }
   ],
   "source": [
    "df= pd.DataFrame.from_records(results)\n",
    "df.head(6)\n"
   ]
  },
  {
   "cell_type": "code",
   "execution_count": 9,
   "metadata": {},
   "outputs": [],
   "source": [
    "df['label']=0\n",
    "df.loc[df['compound']>0.2,'label']=1\n",
    "df.loc[df['compound']<-0.2,'label']=-1\n"
   ]
  },
  {
   "cell_type": "code",
   "execution_count": 10,
   "metadata": {},
   "outputs": [
    {
     "data": {
      "text/html": [
       "<div>\n",
       "<style scoped>\n",
       "    .dataframe tbody tr th:only-of-type {\n",
       "        vertical-align: middle;\n",
       "    }\n",
       "\n",
       "    .dataframe tbody tr th {\n",
       "        vertical-align: top;\n",
       "    }\n",
       "\n",
       "    .dataframe thead th {\n",
       "        text-align: right;\n",
       "    }\n",
       "</style>\n",
       "<table border=\"1\" class=\"dataframe\">\n",
       "  <thead>\n",
       "    <tr style=\"text-align: right;\">\n",
       "      <th></th>\n",
       "      <th>compound</th>\n",
       "      <th>headline</th>\n",
       "      <th>neg</th>\n",
       "      <th>neu</th>\n",
       "      <th>pos</th>\n",
       "      <th>label</th>\n",
       "    </tr>\n",
       "  </thead>\n",
       "  <tbody>\n",
       "    <tr>\n",
       "      <th>0</th>\n",
       "      <td>0.0000</td>\n",
       "      <td>Trump campaign flying anti-socialism banner ab...</td>\n",
       "      <td>0.000</td>\n",
       "      <td>1.000</td>\n",
       "      <td>0.0</td>\n",
       "      <td>0</td>\n",
       "    </tr>\n",
       "    <tr>\n",
       "      <th>1</th>\n",
       "      <td>0.0000</td>\n",
       "      <td>US concluded Israel likely planted surveillanc...</td>\n",
       "      <td>0.000</td>\n",
       "      <td>1.000</td>\n",
       "      <td>0.0</td>\n",
       "      <td>0</td>\n",
       "    </tr>\n",
       "    <tr>\n",
       "      <th>2</th>\n",
       "      <td>-0.2960</td>\n",
       "      <td>This Liberal Group's Website Was Deemed Porn b...</td>\n",
       "      <td>0.053</td>\n",
       "      <td>0.947</td>\n",
       "      <td>0.0</td>\n",
       "      <td>-1</td>\n",
       "    </tr>\n",
       "    <tr>\n",
       "      <th>3</th>\n",
       "      <td>0.0000</td>\n",
       "      <td>Report: Sen. Mike Lee Discussed Loosening Sanc...</td>\n",
       "      <td>0.000</td>\n",
       "      <td>1.000</td>\n",
       "      <td>0.0</td>\n",
       "      <td>0</td>\n",
       "    </tr>\n",
       "    <tr>\n",
       "      <th>4</th>\n",
       "      <td>-0.6249</td>\n",
       "      <td>Another Flint? Newark, NJ, Faces Public Health...</td>\n",
       "      <td>0.227</td>\n",
       "      <td>0.773</td>\n",
       "      <td>0.0</td>\n",
       "      <td>-1</td>\n",
       "    </tr>\n",
       "    <tr>\n",
       "      <th>5</th>\n",
       "      <td>-0.2263</td>\n",
       "      <td>Watch live: Greta Thunberg joins protesters ou...</td>\n",
       "      <td>0.160</td>\n",
       "      <td>0.840</td>\n",
       "      <td>0.0</td>\n",
       "      <td>-1</td>\n",
       "    </tr>\n",
       "  </tbody>\n",
       "</table>\n",
       "</div>"
      ],
      "text/plain": [
       "   compound                                           headline    neg    neu  \\\n",
       "0    0.0000  Trump campaign flying anti-socialism banner ab...  0.000  1.000   \n",
       "1    0.0000  US concluded Israel likely planted surveillanc...  0.000  1.000   \n",
       "2   -0.2960  This Liberal Group's Website Was Deemed Porn b...  0.053  0.947   \n",
       "3    0.0000  Report: Sen. Mike Lee Discussed Loosening Sanc...  0.000  1.000   \n",
       "4   -0.6249  Another Flint? Newark, NJ, Faces Public Health...  0.227  0.773   \n",
       "5   -0.2263  Watch live: Greta Thunberg joins protesters ou...  0.160  0.840   \n",
       "\n",
       "   pos  label  \n",
       "0  0.0      0  \n",
       "1  0.0      0  \n",
       "2  0.0     -1  \n",
       "3  0.0      0  \n",
       "4  0.0     -1  \n",
       "5  0.0     -1  "
      ]
     },
     "execution_count": 10,
     "metadata": {},
     "output_type": "execute_result"
    }
   ],
   "source": [
    "df.head(6)"
   ]
  },
  {
   "cell_type": "code",
   "execution_count": 13,
   "metadata": {},
   "outputs": [],
   "source": [
    "df2=df[['headline','label']]\n",
    "df2.to_csv('reddit_headline_sentiment_analysis.csv',mode='a',encoding='utf-8',index=False) "
   ]
  },
  {
   "cell_type": "code",
   "execution_count": 14,
   "metadata": {},
   "outputs": [
    {
     "name": "stdout",
     "output_type": "stream",
     "text": [
      "positive headlines:\n",
      "\n",
      "['Poll: Warren, Sanders, Yang Won the Democratic Debate',\n",
      " 'The Case Against Trump Profiting From the Presidency Is Back On — The decision by the U.S. second circuit court of appeals marks a breakthrough for those who accuse Trump of breaching the '\n",
      " 'Constitution’s so-called emoluments clause.',\n",
      " 'Mystery Solved: Private-Equity-Backed Firms Are Behind Ad Blitz on ‘Surprise Billing’',\n",
      " 'Democratic debate 2019: Beto O’Rourke vows, ‘Hell, yes, we’re going to take your AR-15’',\n",
      " 'Chairman Schiff Issues Subpoena for Whistleblower Complaint Being Unlawfully Withheld by Acting DNI from Intelligence Committees',\n",
      " \"Ted Cruz: 'I Hope To Run' For President Again\",\n",
      " 'Joe Biden has his best debate night -- and that might be good enough']\n",
      "negative headlines:\n",
      "\n",
      "[\"This Liberal Group's Website Was Deemed Porn by the Trump Administration - No one thinks the citizen advocacy group Public Citizen is racey. And yet, for months, its website was being deemed adult content by the Department of Education’s web filter.\",\n",
      " 'Another Flint? Newark, NJ, Faces Public Health Crisis over Lead Contamination in City’s Water Supply',\n",
      " 'Watch live: Greta Thunberg joins protesters outside of the White House',\n",
      " 'Trump Gives Up On Gun Control, Moves To Vaping Instead',\n",
      " \"Trump struggles to say Mike Pence's name and blames energy efficient light bulbs for making him 'look orange' during bizarre speech\",\n",
      " \"Cory Booker sides with Julián Castro on Biden attack: You do 'wonder' when Biden speaks...\",\n",
      " \"Dental malfunction? Concerns over Biden's teeth as he struggles to answer debate question\"]\n"
     ]
    }
   ],
   "source": [
    "print('positive headlines:\\n')\n",
    "pprint(list(df[df['label'] == 1].headline)[:7], width=200)\n",
    "\n",
    "print('negative headlines:\\n')\n",
    "pprint(list(df[df['label'] == -1].headline)[:7], width=400)"
   ]
  },
  {
   "cell_type": "code",
   "execution_count": 16,
   "metadata": {},
   "outputs": [
    {
     "name": "stdout",
     "output_type": "stream",
     "text": [
      " 0    372\n",
      "-1    340\n",
      " 1    258\n",
      "Name: label, dtype: int64\n",
      " 0    38.350515\n",
      "-1    35.051546\n",
      " 1    26.597938\n",
      "Name: label, dtype: float64\n"
     ]
    }
   ],
   "source": [
    "print(df.label.value_counts())\n",
    "print(df.label.value_counts(normalize=True)*100)"
   ]
  },
  {
   "cell_type": "code",
   "execution_count": 17,
   "metadata": {},
   "outputs": [
    {
     "data": {
      "image/png": "[encoded data removed]",
      "text/plain": [
       "<Figure size 576x576 with 1 Axes>"
      ]
     },
     "metadata": {
      "needs_background": "light"
     },
     "output_type": "display_data"
    }
   ],
   "source": [
    "fig, ax= plt.subplots(figsize=(8,8))\n",
    "counts= df.label.value_counts(normalize=True)*100\n",
    "sns.barplot(x=counts.index,y=counts,ax=ax)\n",
    "ax.set_xticklabels(['Negative','Nuetral','Positive'])\n",
    "ax.set_ylabel(['Percentage'])\n",
    "plt.show()\n"
   ]
  },
  {
   "cell_type": "code",
   "execution_count": null,
   "metadata": {},
   "outputs": [],
   "source": []
  },
  {
   "cell_type": "code",
   "execution_count": null,
   "metadata": {
    "collapsed": true
   },
   "outputs": [],
   "source": []
  }
 ],
 "metadata": {
  "kernelspec": {
   "display_name": "Python 3",
   "language": "python",
   "name": "python3"
  },
  "language_info": {
   "codemirror_mode": {
    "name": "ipython",
    "version": 3
   },
   "file_extension": ".py",
   "mimetype": "text/x-python",
   "name": "python",
   "nbconvert_exporter": "python",
   "pygments_lexer": "ipython3",
   "version": "3.7.3"
  }
 },
 "nbformat": 4,
 "nbformat_minor": 2
}
